{
 "cells": [
  {
   "cell_type": "markdown",
   "metadata": {},
   "source": [
    "# Environment"
   ]
  },
  {
   "cell_type": "code",
   "execution_count": 21,
   "metadata": {},
   "outputs": [],
   "source": [
    "import pandas as pd\n",
    "import os\n",
    "import matplotlib.pyplot as plt\n",
    "import seaborn as sns\n",
    "import numpy as np\n",
    "from Bio import Seq, SeqIO, Entrez\n",
    "from Bio.Align import PairwiseAligner\n",
    "from Bio.SeqUtils import complement\n",
    "import json"
   ]
  },
  {
   "cell_type": "code",
   "execution_count": 22,
   "metadata": {},
   "outputs": [
    {
     "name": "stdout",
     "output_type": "stream",
     "text": [
      "Current working directory: /beegfs/scratch/ric.broccoli/kubacki.michal/SRF_Snords\n"
     ]
    }
   ],
   "source": [
    "# Set the working directory\n",
    "working_dir = \"/beegfs/scratch/ric.broccoli/kubacki.michal/SRF_Snords\"\n",
    "os.chdir(working_dir)\n",
    "print(f\"Current working directory: {os.getcwd()}\")"
   ]
  },
  {
   "cell_type": "markdown",
   "metadata": {},
   "source": [
    "# Load functions"
   ]
  },
  {
   "cell_type": "code",
   "execution_count": 23,
   "metadata": {},
   "outputs": [],
   "source": [
    "# Function to generate the antisense sequence\n",
    "def generate_antisense(sequence):\n",
    "    \"\"\"Generate the antisense sequence.\"\"\"\n",
    "    return str(Seq.Seq(sequence).reverse_complement())\n",
    "\n",
    "# Function to fetch gene sequence from NCBI\n",
    "# def fetch_gene_sequence(gene_name, email):\n",
    "#     \"\"\"Fetch the gene sequence from NCBI.\"\"\"\n",
    "#     Entrez.email = email\n",
    "#     # Search for the gene in the nucleotide database\n",
    "#     handle = Entrez.esearch(db=\"nucleotide\", term=f\"{gene_name}[Gene Name] AND human[Organism]\")\n",
    "#     record = Entrez.read(handle)\n",
    "#     if record[\"IdList\"]:\n",
    "#         gene_id = record[\"IdList\"][0]\n",
    "#         # Fetch the gene record\n",
    "#         handle = Entrez.efetch(db=\"nucleotide\", id=gene_id, rettype=\"gb\", retmode=\"text\")\n",
    "#         try:\n",
    "#             gene_record = SeqIO.read(handle, \"genbank\")\n",
    "#             return str(gene_record.seq)\n",
    "#         except ValueError as e:\n",
    "#             # If there's an error reading the sequence, return None\n",
    "#             return None\n",
    "#         finally:\n",
    "#             handle.close()\n",
    "#     return None\n",
    "def fetch_gene_sequence(gene_name, email):\n",
    "    \"\"\"Fetch the gene sequence from NCBI using GRCh38 assembly.\"\"\"\n",
    "    Entrez.email = email\n",
    "    # Search for the gene in the nucleotide database, specifically for GRCh38\n",
    "    search_term = f\"{gene_name}[Gene Name] AND human[Organism] AND GRCh38[Assembly]\"\n",
    "    handle = Entrez.esearch(db=\"nucleotide\", term=search_term)\n",
    "    record = Entrez.read(handle)\n",
    "    if record[\"IdList\"]:\n",
    "        gene_id = record[\"IdList\"][0]\n",
    "        # Fetch the gene record\n",
    "        handle = Entrez.efetch(db=\"nucleotide\", id=gene_id, rettype=\"gb\", retmode=\"text\")\n",
    "        try:\n",
    "            gene_record = SeqIO.read(handle, \"genbank\")\n",
    "            return str(gene_record.seq)\n",
    "        except ValueError as e:\n",
    "            # If there's an error reading the sequence, return None\n",
    "            return None\n",
    "        finally:\n",
    "            handle.close()\n",
    "    return None\n",
    "\n",
    "# Function to perform local alignment between two sequences\n",
    "def align_sequence(query, target):\n",
    "    \"\"\"Perform local alignment and return the best score.\"\"\"\n",
    "    aligner = PairwiseAligner()\n",
    "    aligner.mode = 'local'\n",
    "    aligner.match_score = 1\n",
    "    aligner.mismatch_score = -1\n",
    "    aligner.open_gap_score = -100\n",
    "    aligner.extend_gap_score = -100\n",
    "    try:\n",
    "        alignments = aligner.align(query, target)\n",
    "        best_alignment = max(alignments, key=lambda a: a.score)\n",
    "        return {\"score\": best_alignment.score, \"best_alignment\": best_alignment}\n",
    "    except OverflowError:\n",
    "        print(f\"OverflowError occurred during alignment. Query length: {len(query)}, Target length: {len(target)}\")\n",
    "        return 0\n",
    "\n",
    "# Function to check alignment of antisense sequence with a list of genes\n",
    "def check_alignment(antisense_seq, gene_list, email, gene_sequences=None):\n",
    "    \"\"\"Check alignment of antisense sequence with the given list of genes.\"\"\"\n",
    "    results = {}\n",
    "    for gene in gene_list:\n",
    "        # Use provided gene sequences if available, otherwise fetch from NCBI\n",
    "        if gene_sequences is not None:\n",
    "            gene_seq = gene_sequences.get(gene)\n",
    "        else:\n",
    "            gene_seq = fetch_gene_sequence(gene, email)\n",
    "        if gene_seq:\n",
    "            score = align_sequence(antisense_seq, gene_seq)\n",
    "            results[gene] = score\n",
    "        else:\n",
    "            print(f\"Gene sequence not found for {gene}\")\n",
    "    return results\n",
    "\n",
    "# Function to check alignment between two genes\n",
    "def check_gene_alignment(geneA, geneB):\n",
    "    \"\"\"Check alignment between two genes.\"\"\"\n",
    "    if geneA and geneB:\n",
    "        alignment_result = align_sequence(geneA, geneB)\n",
    "        return alignment_result\n",
    "    else:\n",
    "        if not geneA:\n",
    "            print(f\"Gene sequence not found for {geneA}\")\n",
    "        if not geneB:\n",
    "            print(f\"Gene sequence not found for {geneB}\")\n",
    "        return None\n",
    "\n",
    "def check_complementarity(seq1, seq2):\n",
    "    # Convert sequences to Seq objects and ensure they are uppercase\n",
    "    seq1 = Seq(seq1.upper())\n",
    "    seq2 = Seq(seq2.upper())\n",
    "    \n",
    "    # Get the complement of seq2\n",
    "    seq2_complement = complement(seq2)\n",
    "    \n",
    "    # Initialize variables to store the longest complementary region\n",
    "    max_complementary_length = 0\n",
    "    max_complementary_start1 = 0\n",
    "    max_complementary_start2 = 0\n",
    "    \n",
    "    # Check for complementarity by comparing each position in seq1 with seq2_complement\n",
    "    for i in range(len(seq1)):\n",
    "        for j in range(len(seq2_complement)):\n",
    "            k = 0\n",
    "            # Continue matching while sequences are complementary and within bounds\n",
    "            while (i + k < len(seq1) and \n",
    "                   j + k < len(seq2_complement) and \n",
    "                   seq1[i + k] == seq2_complement[j + k]):\n",
    "                k += 1\n",
    "            \n",
    "            # Update if this is the longest complementary region found so far\n",
    "            if k > max_complementary_length:\n",
    "                max_complementary_length = k\n",
    "                max_complementary_start1 = i\n",
    "                max_complementary_start2 = j\n",
    "    \n",
    "    # Return the length and starting positions of the longest complementary region\n",
    "    return (max_complementary_length, \n",
    "            max_complementary_start1, \n",
    "            max_complementary_start2)\n",
    "\n",
    "def find_longest_complementary_region(antisense_seq, gene_list, gene_sequences):\n",
    "    \"\"\"\n",
    "    Find the longest complementary region between the antisense sequence and each gene.\n",
    "    \n",
    "    :param antisense_seq: The antisense sequence to compare\n",
    "    :param gene_list: List of gene names\n",
    "    :param gene_sequences: Dictionary of gene sequences\n",
    "    :return: Dictionary with genes as keys and longest complementary region as values\n",
    "    \"\"\"\n",
    "    result = {}\n",
    "    for gene in gene_list:\n",
    "        gene_seq = gene_sequences.get(gene)\n",
    "        if gene_seq:\n",
    "            # Set up the aligner with local alignment mode\n",
    "            aligner = PairwiseAligner()\n",
    "            aligner.mode = 'local'\n",
    "            aligner.match_score = 1\n",
    "            aligner.mismatch_score = -1\n",
    "            aligner.open_gap_score = -10  # Discourage gaps\n",
    "            aligner.extend_gap_score = -0.5\n",
    "            \n",
    "            # Perform the alignment\n",
    "            alignments = aligner.align(antisense_seq, gene_seq)\n",
    "            best_alignment = max(alignments, key=lambda a: a.score)\n",
    "            \n",
    "            # Extract the longest contiguous match from the best alignment\n",
    "            longest_match = ''\n",
    "            current_match = ''\n",
    "            for q, t in zip(best_alignment.query, best_alignment.target):\n",
    "                if q == t:\n",
    "                    current_match += q\n",
    "                else:\n",
    "                    if len(current_match) > len(longest_match):\n",
    "                        longest_match = current_match\n",
    "                    current_match = ''\n",
    "            \n",
    "            # Check if the last match is the longest\n",
    "            if len(current_match) > len(longest_match):\n",
    "                longest_match = current_match\n",
    "            \n",
    "            result[gene] = longest_match\n",
    "        else:\n",
    "            result[gene] = ''\n",
    "    \n",
    "    return result"
   ]
  },
  {
   "cell_type": "markdown",
   "metadata": {},
   "source": [
    "# Preparation - ASE1 & ASE2 best match\n"
   ]
  },
  {
   "cell_type": "code",
   "execution_count": 24,
   "metadata": {},
   "outputs": [],
   "source": [
    "ASE1 = 'AACATTCCTTGGAAAAG'\n",
    "ASE2 = 'CGTCATTCTCATCGGAA'"
   ]
  },
  {
   "cell_type": "markdown",
   "metadata": {},
   "source": [
    "Define genes of interest"
   ]
  },
  {
   "cell_type": "code",
   "execution_count": 25,
   "metadata": {},
   "outputs": [],
   "source": [
    "selected = [\"GEMIN4\", \"YME1L1\", \"VCP\", \"DARS1\", \"POLR2A\", \"ORAI1\", \"POLRMT\", \"CBX2\", \"NSD2\", \"TLE1\", \"CACNG1\", \"ZMYND11\", \"DCAF5\", \"MED25\", \"SEMA6A-AS2\", \"POLD3\", \"RFT1\", \"SETDB1\", \"POLE\", \"CHD4\", \"POLR2C\", \"HTT\", \"MED14\", \"PER3\", \"TOR3A\", \"EEF1A2\", \"IL33\", \"SETD5\", \"GNRH1\", \"POLR2E\", \"IGF1R\", \"IGF2R\", \"MTMR1\", \"EEF2\", \"RBPMS\", \"EIF2S3B\", \"NIPBL\", \"VCP\"]"
   ]
  },
  {
   "cell_type": "code",
   "execution_count": 26,
   "metadata": {},
   "outputs": [],
   "source": [
    "email = \"michal.kubacki11@gmail.com\""
   ]
  },
  {
   "cell_type": "markdown",
   "metadata": {},
   "source": [
    "Create antisense sequences\n"
   ]
  },
  {
   "cell_type": "code",
   "execution_count": 27,
   "metadata": {},
   "outputs": [
    {
     "name": "stdout",
     "output_type": "stream",
     "text": [
      "Antisense sequence: CTTTTCCAAGGAATGTT\n",
      "Antisense sequence: TTCCGATGAGAATGACG\n",
      "17 17\n"
     ]
    }
   ],
   "source": [
    "antisense_ASE1 = generate_antisense(ASE1)\n",
    "print(f\"Antisense sequence: {antisense_ASE1}\")\n",
    "\n",
    "antisense_ASE2 = generate_antisense(ASE2)\n",
    "print(f\"Antisense sequence: {antisense_ASE2}\")\n",
    "\n",
    "print(len(antisense_ASE1), len(antisense_ASE2))"
   ]
  },
  {
   "cell_type": "markdown",
   "metadata": {},
   "source": [
    "# Load gene sequences"
   ]
  },
  {
   "cell_type": "markdown",
   "metadata": {},
   "source": [
    "Test loading function"
   ]
  },
  {
   "cell_type": "code",
   "execution_count": 28,
   "metadata": {},
   "outputs": [
    {
     "data": {
      "text/plain": [
       "'AGCAGGCCTAAGCGCGGCCGCCGTGGCTCCTGCGTCTCCCATCGTGCCGTGCGTCCCGCGCCGCGTTCGAGTTCTCGGAGGGGAGGGGGCGTTAGCCCCGCGCAGCCGCCGGCGTCGCCGCCATGGACCTAGGACCCTTGAACATCTGTGAAGAAATGACTATTCTGCATGGAGGCTTCTTGCTGGCCGAGCAGCTGTTCCACCCTAAGGCACTGGCAGAATTAACAAAGTCTGACTGGGAACGTGTTGGACGGCCCATCGTGGAGGCCTTAAGGGAGATCTCCTCGGCTGCAGCACACTCCCAGCCCTTTGCCTGGAAGAAGAAAGCCCTGATCATCATCTGGGCCAAGGTTCTGCAGCCGCACCCCGTGACCCCGTCCGACACAGAGACACGGTGGCAGGAAGACCTGTTCTTCTCGGTGGGCAACATGATCCCCACCATCAACCACACCATCCTCTTCGAGCTGCTCAAATCCCTGGAAGCTTCTGGACTCTTTATCCAGCTCCTGATGGCCCTGCCCACCACCATCTGCCATGCAGAACTAGAGCGCTTTCTGGAACATGTGACCGTTGACACTTCTGCCGAAGACGTGGCCTTCTTCCTGGACGTCTGGTGGGAGGTGATGAAGCACAAGGGTCACCCGCAGGACCCCCTGCTCTCCCAGTTTAGTGCAATGGCCCATAAGTACCTGCCTGCCTTAGATGAGTTCCCCCATCCTCCAAAGAGGCTTAGGTCAGACCCAGACGCGTGCCCCACCATGCCCCTGTTGGCCATGCTGCTCCGCGGGCTGACACAGATCCAGAGTCGGATCCTGGGCCCGGGGAGGAAGTGCTGTGCGCTGGCCAACCTGGCTGACATGCTGACTGTGTTTGCGCTGACAGAGGACGACCCCCAGGAGGTGTCTGCAACCGTGTATCTGGACAAACTGGCCACGGTGATCTCTGTGTGGAACTCGGACACCCAGAATCCCTACCACCAGCAGGCGCTGGCAGAGAAGGTGAAGGAGGCAGAACGGGATGTCAGCCTGACCTCGCTGGCCAAACTCCCCAGTGAGACCATTTTCGTGGGCTGCGAGTTCCTGCACCACCTGCTGCGGGAGTGGGGGGAGGAGTTGCAGGCCGTGCTCCGCAGCAGCCAGGGGACAAGTTACGACAGCTACCGGCTGTGCGACAGTCTGACTTCCTTCAGCCAGAACGCGACGCTCTACCTGAACCGCACCAGCCTGTCCAAGGAGGACAGGCAGGTGGTCTCTGAGCTGGCGGAGTGTGTCAGGGACTTCCTGAGGAAAACGAGCACGGTGCTGAAGAACAGGGCCTTGGAGGATATCACAGCTTCCATTGCCATGGCCGTCATCCAGCAGAAGATGGACCGCCATATGGAAGTGTGCTACATTTTTGCCTCTGAGAAGAAGTGGGCCTTCTCGGACGAGTGGGTAGCCTGCCTGGGGAGTAACAGGGCCCTCTTCCGACAGCCAGACTTGGTGTTGAGGCTGCTGGAAACAGTGATAGACGTCAGCACAGCTGACAGAGCCATCCCTGAGTCTCAGATCCGGCAGGTGATCCACCTGATCCTGGAATGTTACGCAGACCTCTCCCTGCCAGGTAAAAATAAAGTCCTTGCAGGTATCCTGCGTTCCTGGGGGCGAAAGGGCCTCTCTGAAAAGTTGCTGGCTTATGTGGAGGGTTTTCAGGAAGACCTCAATACAACTTTTAACCAGCTCACTCAGAGTGCCTCCGAACAGGGCTTGGCAAAAGCTGTGGCCTCCGTGGCCCGCCTGGTCATAGTGCACCCGGAAGTCACGGTGAAGAAAATGTGCAGCCTGGCTGTGGTCAATCTCGGCACCCACAAGTTCCTGGCCCAGATTCTCACTGCCTTCCCTGCCCTTAGGTTTGTGGAAGAGCAGGGTCCCAATTCATCTGCCACTTTCATGGTGTCATGCCTCAAAGAAACCGTCTGGATGAAGTTCTCTACACCCAAGGAAGAAAAGCAATTTTTAGAGCTCCTGAACTGCCTGATGAGTCCCGTGAAACCCCAAGGGATTCCAGTGGCTGCTCTTCTTGAGCCAGACGAGGTGCTGAAGGAATTTGTCCTGCCTTTCTTGAGGTTAGATGTTGAAGAGGTAGACCTCAGTCTGAGGATCTTCATCCAGACTCTAGAGGCAAACGCGTGCCGAGAGGAATACTGGCTCCAGACCTGCTCCCCGTTTCCACTCCTCTTCAGCTTGTGCCAGCTCTTGGACCGCTTCAGCAAATACTGGCAGCTTCCCAAGGAGAAGCGGTGCCTCTCTTTGGATAGGAAGGATCTAGCGATCCATATCCTGGAGCTCCTGTGTGAGATTGTATCAGCCAATGCTGAGACCTTCTCCCCGGATGTCTGGATCAAGTCCCTGTCCTGGCTCCACCGCAAGTTAGAACAGCTAGACTGGACTGTGGGCCTGAGGCTGAAGAGCTTCTTCGAGGGGCACTTCAAGTGTGAAGTGCCAGCCACACTTTTTGAGATCTGTAAGCTTTCAGAAGACGAGTGGACCTCCCAGGCCCACCCAGGGTACGGGGCTGGCACGGGGCTCCTGGCCTGGATGGAGTGCTGCTGCGTCTCCAGCGGCATCTCGGAGAGGATGCTGTCTCTCTTGGTGGTGGACGTGGGCAATCCTGAGGAGGTCAGACTGTTCAGCAAAGGCTTTCTGGTGGCCCTGGTGCAAGTCATGCCTTGGTGCAGCCCTCAGGAGTGGCAGCGCCTTCACCAGCTGACCAGGAGACTGCTGGAGAAGCAGCTCCTCCATGTCCCTTATAGCCTGGAATATATTCAGTTTGTTCCCCTGCTCAACCTGAAGCCCTTTGCCCAGGAGTTGCAACTCTCCGTCCTCTTCCTGAGGACTTTCCAGTTTCTCTGCAGCCATAGCTGTCGTGATTGGCTTCCTCTGGAAGGCTGGAACCACGTGGTCAAACTCCTCTGTGGCAGTCTGACCCGCCTCCTGGACTCAGTCAGGGCGATACAGGCAGCTGGCCCTTGGGTTCAAGGACCAGAGCAGGACCTGACCCAGGAAGCCCTGTTTGTTTACACCCAGGTGTTCTGCCATGCTCTGCACATCATGGCCATGCTCCACCCGGAGGTCTGTGAGCCACTCTACGTTTTAGCCTTGGAAACCCTCACCTGCTATGAGACTTTGAGCAAGACCAACCCTTCTGTCAGCTCCTTGCTCCAGAGGGCACACGAGCAGCGCTTCTTAAAGTCCATTGCTGAGGGCATCGGCCCTGAAGAACGGCGCCAAACCCTGTTGCAGAAGATGAGCAGCTTCTGACTTGGCGTGGGGAGCTGGGCCCCAACATGGCGGGTCTGCAGAAGATCAGCAGCTTCTTACCTGTGCGGGAGCGAAAAAGCTGGGCTTCAACATGGCAGGTCTGTAGGGGTCAGACCCGAGCAGCCTGGACTTTACAGTTATGTGAAACTGTCCACAAAAAGTCATGGCAATAATGGTGTAAAGAAAATAGTTTCTTGGGTATTTGTAACGTACAAACTATCATAAAAATTCTCCTCTTTCGCATCTCACTTTGTCTCTTCTAAGTCGGCCTCAGCAATAGCCCAGGATTAAATATGCTCTGAAATTGGGTTTAGTGTCTTCAAGATCAAATCCAGCCAGGAGGAACATGTTCATAACTGGACTTTTCCATCCTAGATTTTGGCAAATAAGCCCAAAGTTGAAACCATGTGAGTGGAAAAAGCATTACATGGTACGTATAACCCCC'"
      ]
     },
     "execution_count": 28,
     "metadata": {},
     "output_type": "execute_result"
    }
   ],
   "source": [
    "fetch_gene_sequence(\"GEMIN4\", email)"
   ]
  },
  {
   "cell_type": "code",
   "execution_count": 29,
   "metadata": {},
   "outputs": [],
   "source": [
    "%%script false --no-raise-error\n",
    "\n",
    "# Fetch and store gene sequences\n",
    "gene_sequences = {}\n",
    "for gene in selected:\n",
    "    sequence = fetch_gene_sequence(gene, email)\n",
    "    if sequence:\n",
    "        gene_sequences[gene] = sequence\n",
    "    else:\n",
    "        print(f\"Failed to fetch sequence for {gene}\")\n",
    "\n",
    "print(f\"Successfully fetched sequences for {len(gene_sequences)} out of {len(selected)} genes\")"
   ]
  },
  {
   "cell_type": "code",
   "execution_count": 30,
   "metadata": {},
   "outputs": [],
   "source": [
    "%%script false --no-raise-error\n",
    "\n",
    "# Save the gene sequences to a file\n",
    "with open('./output/gene_sequences.json', 'w') as f:\n",
    "    json.dump(gene_sequences, f)\n",
    "\n",
    "print(\"Gene sequences saved to gene_sequences.json\")"
   ]
  },
  {
   "cell_type": "code",
   "execution_count": 31,
   "metadata": {},
   "outputs": [
    {
     "name": "stdout",
     "output_type": "stream",
     "text": [
      "Loaded 28 gene sequences from file\n"
     ]
    }
   ],
   "source": [
    "# Load the gene sequences from the file\n",
    "with open('./output/gene_sequences.json', 'r') as f:\n",
    "    loaded_gene_sequences = json.load(f)\n",
    "\n",
    "print(f\"Loaded {len(loaded_gene_sequences)} gene sequences from file\")"
   ]
  },
  {
   "cell_type": "markdown",
   "metadata": {},
   "source": [
    "# Check alignment with the selected genes"
   ]
  },
  {
   "cell_type": "code",
   "execution_count": 32,
   "metadata": {},
   "outputs": [
    {
     "name": "stdout",
     "output_type": "stream",
     "text": [
      "Gene sequence not found for DARS1\n",
      "Gene sequence not found for POLR2A\n",
      "Gene sequence not found for CACNG1\n",
      "Gene sequence not found for SEMA6A-AS2\n",
      "Gene sequence not found for POLR2C\n",
      "Gene sequence not found for TOR3A\n",
      "Gene sequence not found for EEF1A2\n",
      "Gene sequence not found for GNRH1\n",
      "Gene sequence not found for EIF2S3B\n"
     ]
    }
   ],
   "source": [
    "aligned_genes_ASE1 = check_alignment(antisense_ASE1, selected, email, gene_sequences=loaded_gene_sequences)"
   ]
  },
  {
   "cell_type": "code",
   "execution_count": 33,
   "metadata": {},
   "outputs": [
    {
     "data": {
      "image/png": "[encoded data removed]",
      "text/plain": [
       "<Figure size 1200x600 with 1 Axes>"
      ]
     },
     "metadata": {},
     "output_type": "display_data"
    },
    {
     "name": "stdout",
     "output_type": "stream",
     "text": [
      "Average alignment score per gene: 8.89\n",
      "Gene with highest score: SETD5\n",
      "Gene with lowest score: ORAI1\n"
     ]
    }
   ],
   "source": [
    "# Extract scores from aligned_genes_ASE1 and sort them\n",
    "scores = {gene: data['score'] for gene, data in aligned_genes_ASE1.items()}\n",
    "sorted_scores = dict(sorted(scores.items(), key=lambda x: x[1], reverse=True))\n",
    "\n",
    "# Visualize the sorted scores\n",
    "plt.figure(figsize=(12, 6))\n",
    "plt.bar(list(sorted_scores.keys()), list(sorted_scores.values()))\n",
    "plt.title(\"Alignment Scores for ASE1 Across Genes (Sorted)\")\n",
    "plt.xlabel(\"Genes\")\n",
    "plt.ylabel(\"Alignment Score\")\n",
    "plt.xticks(rotation=90)\n",
    "plt.tight_layout()\n",
    "plt.show()\n",
    "\n",
    "# Calculate and print some statistics\n",
    "total_score = sum(scores.values())\n",
    "avg_score = total_score / len(scores)\n",
    "print(f\"Average alignment score per gene: {avg_score:.2f}\")\n",
    "print(f\"Gene with highest score: {next(iter(sorted_scores))}\")\n",
    "print(f\"Gene with lowest score: {list(sorted_scores.keys())[-1]}\")"
   ]
  },
  {
   "cell_type": "code",
   "execution_count": 34,
   "metadata": {},
   "outputs": [
    {
     "name": "stdout",
     "output_type": "stream",
     "text": [
      "SETD5\n",
      "target            1 TTTTCCAAGGAATG    15\n",
      "                  0 |||||||||.||||    14\n",
      "query         38555 TTTTCCAAGAAATG 38569\n",
      "\n",
      "NSD2\n",
      "target            0 CTTTTCCAAGGAATG    15\n",
      "                  0 ||||||..|||||||    15\n",
      "query         54037 CTTTTCTCAGGAATG 54052\n",
      "\n",
      "POLE\n",
      "target            6 CAAGGAATGTT    17\n",
      "                  0 |||||||||||    11\n",
      "query         27330 CAAGGAATGTT 27341\n",
      "\n",
      "HTT\n",
      "target            0 CTTTTCCAAGGAATG    15\n",
      "                  0 ||||||.|||||.||    15\n",
      "query         86766 CTTTTCTAAGGATTG 86781\n",
      "\n",
      "PER3\n",
      "target            1 TTTTCCAAGGAATGT   16\n",
      "                  0 ||||.||||.|||||   15\n",
      "query          4755 TTTTACAAGTAATGT 4770\n",
      "\n"
     ]
    }
   ],
   "source": [
    "# Get the top 5 genes with the highest score\n",
    "top_5_genes = dict(sorted(aligned_genes_ASE1.items(), key=lambda x: x[1]['score'], reverse=True)[:5])\n",
    "\n",
    "for gene in top_5_genes.keys():\n",
    "    print(gene)\n",
    "    print(aligned_genes_ASE1[gene][\"best_alignment\"])\n"
   ]
  },
  {
   "cell_type": "code",
   "execution_count": 35,
   "metadata": {},
   "outputs": [
    {
     "name": "stdout",
     "output_type": "stream",
     "text": [
      "Gene sequence not found for DARS1\n",
      "Gene sequence not found for POLR2A\n",
      "Gene sequence not found for CACNG1\n",
      "Gene sequence not found for SEMA6A-AS2\n",
      "Gene sequence not found for POLR2C\n",
      "Gene sequence not found for TOR3A\n",
      "Gene sequence not found for EEF1A2\n",
      "Gene sequence not found for GNRH1\n",
      "Gene sequence not found for EIF2S3B\n"
     ]
    }
   ],
   "source": [
    "aligned_genes_ASE2 = check_alignment(antisense_ASE2, selected, email, gene_sequences=loaded_gene_sequences)\n"
   ]
  },
  {
   "cell_type": "code",
   "execution_count": 36,
   "metadata": {},
   "outputs": [
    {
     "data": {
      "image/png": "[encoded data removed]",
      "text/plain": [
       "<Figure size 1200x600 with 1 Axes>"
      ]
     },
     "metadata": {},
     "output_type": "display_data"
    },
    {
     "name": "stdout",
     "output_type": "stream",
     "text": [
      "Average alignment score per gene: 8.79\n",
      "Gene with highest score: NSD2\n",
      "Gene with lowest score: RBPMS\n"
     ]
    }
   ],
   "source": [
    "# Extract scores from aligned_genes_ASE2 and sort them\n",
    "scores = {gene: data['score'] for gene, data in aligned_genes_ASE2.items()}\n",
    "sorted_scores = dict(sorted(scores.items(), key=lambda x: x[1], reverse=True))\n",
    "\n",
    "# Visualize the sorted scores\n",
    "plt.figure(figsize=(12, 6))\n",
    "plt.bar(list(sorted_scores.keys()), list(sorted_scores.values()))\n",
    "plt.title(\"Alignment Scores for ASE2 Across Genes (Sorted)\")\n",
    "plt.xlabel(\"Genes\")\n",
    "plt.ylabel(\"Alignment Score\")\n",
    "plt.xticks(rotation=90)\n",
    "plt.tight_layout()\n",
    "plt.show()\n",
    "\n",
    "# Calculate and print some statistics\n",
    "total_score = sum(scores.values())\n",
    "avg_score = total_score / len(scores)\n",
    "print(f\"Average alignment score per gene: {avg_score:.2f}\")\n",
    "print(f\"Gene with highest score: {next(iter(sorted_scores))}\")\n",
    "print(f\"Gene with lowest score: {list(sorted_scores.keys())[-1]}\")"
   ]
  },
  {
   "cell_type": "code",
   "execution_count": 37,
   "metadata": {},
   "outputs": [
    {
     "name": "stdout",
     "output_type": "stream",
     "text": [
      "SETD5\n",
      "target            1 TTTTCCAAGGAATG    15\n",
      "                  0 |||||||||.||||    14\n",
      "query         38555 TTTTCCAAGAAATG 38569\n",
      "\n",
      "NSD2\n",
      "target            0 CTTTTCCAAGGAATG    15\n",
      "                  0 ||||||..|||||||    15\n",
      "query         54037 CTTTTCTCAGGAATG 54052\n",
      "\n",
      "POLE\n",
      "target            6 CAAGGAATGTT    17\n",
      "                  0 |||||||||||    11\n",
      "query         27330 CAAGGAATGTT 27341\n",
      "\n",
      "HTT\n",
      "target            0 CTTTTCCAAGGAATG    15\n",
      "                  0 ||||||.|||||.||    15\n",
      "query         86766 CTTTTCTAAGGATTG 86781\n",
      "\n",
      "PER3\n",
      "target            1 TTTTCCAAGGAATGT   16\n",
      "                  0 ||||.||||.|||||   15\n",
      "query          4755 TTTTACAAGTAATGT 4770\n",
      "\n"
     ]
    }
   ],
   "source": [
    "# Get the top 5 genes with the highest score\n",
    "top_5_genes = dict(sorted(aligned_genes_ASE1.items(), key=lambda x: x[1]['score'], reverse=True)[:5])\n",
    "\n",
    "for gene in top_5_genes.keys():\n",
    "    print(gene)\n",
    "    print(aligned_genes_ASE1[gene][\"best_alignment\"])\n"
   ]
  },
  {
   "cell_type": "markdown",
   "metadata": {},
   "source": [
    "# Snord116 &  Ribosomal 5.8S"
   ]
  },
  {
   "cell_type": "code",
   "execution_count": 38,
   "metadata": {},
   "outputs": [
    {
     "name": "stdout",
     "output_type": "stream",
     "text": [
      "SNORD116-1 sequence:\n",
      "TGGATCGATGATGAGTCCCCTATAAAAACATTCCTTGGAAAAGCTGAACAAAATGAGTGAGAACTCATAACGTCATTCTCATCGGAACTGAGGTCCA\n",
      "\n",
      "Ribosome 5.8S sequence:\n",
      "CGACTCTTAGCGGTGGATCACTCGGCTCGTGCGTCGATGAAGAACGCAGCTAGCTGCGAGAATTAATGTGAATTGCAGGACACATTGATCATCGACACTTCGAACGCACTTGCGGCCCCGGGTTCCTCCCGGGGCTACGCCTGTCTGAGCGTCGCTT\n"
     ]
    }
   ],
   "source": [
    "# Load the sequence for SNORD116-1 from file\n",
    "with open('DATA/Snord116', 'r') as file:\n",
    "    snord116_sequence = file.read().splitlines()[1:]  # Skip the header line\n",
    "snord116_sequence = ''.join(snord116_sequence)  # Join the lines into a single string\n",
    "\n",
    "# Print the sequence\n",
    "print(\"SNORD116-1 sequence:\")\n",
    "print(snord116_sequence)\n",
    "\n",
    "# Load the sequence for Ribosome 5.8S from file\n",
    "with open('DATA/Ribisome_58s', 'r') as file:\n",
    "    ribosome_58s_sequence = file.read().splitlines()[1:]  # Skip the header line\n",
    "ribosome_58s_sequence = ''.join(ribosome_58s_sequence)  # Join the lines into a single string\n",
    "\n",
    "# Print the sequence\n",
    "print(\"\\nRibosome 5.8S sequence:\")\n",
    "print(ribosome_58s_sequence)"
   ]
  },
  {
   "cell_type": "code",
   "execution_count": 39,
   "metadata": {},
   "outputs": [],
   "source": [
    "aligned_genes_ribosome = check_gene_alignment(snord116_sequence,ribosome_58s_sequence)\n"
   ]
  },
  {
   "cell_type": "code",
   "execution_count": 40,
   "metadata": {},
   "outputs": [
    {
     "name": "stdout",
     "output_type": "stream",
     "text": [
      "target            4 TCGATGATGA 14\n",
      "                  0 |||||||.|| 10\n",
      "query            33 TCGATGAAGA 43\n",
      "\n"
     ]
    }
   ],
   "source": [
    "print(aligned_genes_ribosome[\"best_alignment\"])"
   ]
  }
 ],
 "metadata": {
  "kernelspec": {
   "display_name": "jupyter",
   "language": "python",
   "name": "jupyter"
  }
 },
 "nbformat": 4,
 "nbformat_minor": 2
}
