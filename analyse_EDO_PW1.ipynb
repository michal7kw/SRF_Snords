{
 "cells": [
  {
   "cell_type": "code",
   "execution_count": 31,
   "metadata": {},
   "outputs": [],
   "source": [
    "import pandas as pd\n",
    "import numpy as np\n",
    "from typing import List, Dict, Set\n",
    "import os\n"
   ]
  },
  {
   "cell_type": "code",
   "execution_count": 32,
   "metadata": {},
   "outputs": [],
   "source": [
    "working_dir = \"/beegfs/scratch/ric.broccoli/kubacki.michal/SRF_Snords\"\n",
    "os.chdir(working_dir)"
   ]
  },
  {
   "cell_type": "code",
   "execution_count": 2,
   "metadata": {},
   "outputs": [],
   "source": [
    "def load_dexseq_results(results_file: str) -> pd.DataFrame:\n",
    "    \"\"\"Load DEXSeq results and perform initial filtering.\"\"\"\n",
    "    results = pd.read_csv(results_file)\n",
    "    # Convert p-values to numeric, replacing any invalid values with 1.0\n",
    "    results['padj'] = pd.to_numeric(results['padj'], errors='coerce').fillna(1.0)\n",
    "    return results"
   ]
  },
  {
   "cell_type": "code",
   "execution_count": 21,
   "metadata": {},
   "outputs": [],
   "source": [
    "def extract_gene_id(feature_id: str) -> str:\n",
    "    \"\"\"Extract gene ID from the feature identifier.\"\"\"\n",
    "    return feature_id.split(':')[0].split('.')[0]"
   ]
  },
  {
   "cell_type": "code",
   "execution_count": 22,
   "metadata": {},
   "outputs": [],
   "source": [
    "def analyze_target_genes(results_df: pd.DataFrame,\n",
    "                        target_genes: List[str],\n",
    "                        padj_threshold: float = 0.1,\n",
    "                        log2fc_threshold: float = 0.5) -> Dict[str, pd.DataFrame]:\n",
    "    \"\"\"\n",
    "    Analyze differential splicing for target genes.\n",
    "    \n",
    "    Args:\n",
    "        results_df: DEXSeq results DataFrame\n",
    "        target_genes: List of target gene names\n",
    "        padj_threshold: Adjusted p-value threshold for significance\n",
    "        log2fc_threshold: Log2 fold change threshold for significance\n",
    "    \n",
    "    Returns:\n",
    "        Dictionary with gene names as keys and filtered results as values\n",
    "    \"\"\"\n",
    "    # Extract gene IDs from groupID column\n",
    "    results_df['gene_id'] = results_df['groupID'].apply(extract_gene_id)\n",
    "    \n",
    "    print(\"Extracted gene IDs:\")\n",
    "    print(results_df[\"gene_id\"][:10])\n",
    "\n",
    "    # Create a mapping of gene names to their IDs\n",
    "    gene_name_to_id = {\n",
    "        'SETD5': 'ENSG00000168137',\n",
    "        'NSD2': 'ENSG00000109685',\n",
    "        'POLE': 'ENSG00000177084',\n",
    "        'HTT': 'ENSG00000197386',\n",
    "        'PER3': 'ENSG00000049246',\n",
    "        'MED14': 'ENSG00000180182'\n",
    "    }\n",
    "    \n",
    "    gene_results = {}\n",
    "    \n",
    "    for gene_name in target_genes:\n",
    "        if gene_name in gene_name_to_id:\n",
    "            gene_id = gene_name_to_id[gene_name]\n",
    "            \n",
    "            # Filter results for this gene\n",
    "            gene_df = results_df[results_df['gene_id'] == gene_id].copy()\n",
    "            \n",
    "            if not gene_df.empty:\n",
    "                # Add significance flags\n",
    "                gene_df['is_significant'] = (gene_df['padj'] < padj_threshold) & \\\n",
    "                                          (abs(gene_df['log2fold_treated_untreated']) > log2fc_threshold)\n",
    "                \n",
    "                # Sort by adjusted p-value\n",
    "                gene_df = gene_df.sort_values('padj')\n",
    "                \n",
    "                # Calculate additional statistics\n",
    "                stats = {\n",
    "                    'total_exons': len(gene_df),\n",
    "                    'significant_exons': gene_df['is_significant'].sum(),\n",
    "                    'min_padj': gene_df['padj'].min(),\n",
    "                    'max_abs_log2fc': abs(gene_df['log2fold_treated_untreated']).max()\n",
    "                }\n",
    "                \n",
    "                gene_results[gene_name] = {\n",
    "                    'results': gene_df,\n",
    "                    'stats': stats\n",
    "                }\n",
    "    \n",
    "    return gene_results"
   ]
  },
  {
   "cell_type": "code",
   "execution_count": 23,
   "metadata": {},
   "outputs": [],
   "source": [
    "def summarize_results(gene_results: Dict[str, Dict]) -> pd.DataFrame:\n",
    "    \"\"\"Create a summary DataFrame of the analysis results.\"\"\"\n",
    "    summary_data = []\n",
    "    \n",
    "    for gene_name, data in gene_results.items():\n",
    "        stats = data['stats']\n",
    "        summary_data.append({\n",
    "            'Gene': gene_name,\n",
    "            'Total_Exons': stats['total_exons'],\n",
    "            'Significant_Exons': stats['significant_exons'],\n",
    "            'Min_Padj': stats['min_padj'],\n",
    "            'Max_Abs_Log2FC': stats['max_abs_log2fc'],\n",
    "            'Percent_Significant': (stats['significant_exons'] / stats['total_exons'] * 100)\n",
    "        })\n",
    "    \n",
    "    return pd.DataFrame(summary_data)"
   ]
  },
  {
   "cell_type": "code",
   "execution_count": 24,
   "metadata": {},
   "outputs": [],
   "source": [
    "# File paths\n",
    "results_file = '/beegfs/scratch/ric.broccoli/kubacki.michal/SRF_Snords/output/dexseq_results_PW1_vs_EDO.csv'"
   ]
  },
  {
   "cell_type": "code",
   "execution_count": 25,
   "metadata": {},
   "outputs": [],
   "source": [
    "# Target genes\n",
    "target_genes = ['SETD5', 'NSD2', 'POLE', 'HTT', 'PER3', 'MED14']"
   ]
  },
  {
   "cell_type": "code",
   "execution_count": 26,
   "metadata": {},
   "outputs": [
    {
     "name": "stdout",
     "output_type": "stream",
     "text": [
      "Loading DEXSeq results...\n"
     ]
    }
   ],
   "source": [
    "# Load results\n",
    "print(\"Loading DEXSeq results...\")\n",
    "results_df = load_dexseq_results(results_file)"
   ]
  },
  {
   "cell_type": "code",
   "execution_count": 27,
   "metadata": {},
   "outputs": [
    {
     "data": {
      "text/html": [
       "<div>\n",
       "<style scoped>\n",
       "    .dataframe tbody tr th:only-of-type {\n",
       "        vertical-align: middle;\n",
       "    }\n",
       "\n",
       "    .dataframe tbody tr th {\n",
       "        vertical-align: top;\n",
       "    }\n",
       "\n",
       "    .dataframe thead th {\n",
       "        text-align: right;\n",
       "    }\n",
       "</style>\n",
       "<table border=\"1\" class=\"dataframe\">\n",
       "  <thead>\n",
       "    <tr style=\"text-align: right;\">\n",
       "      <th></th>\n",
       "      <th>Unnamed: 0</th>\n",
       "      <th>groupID</th>\n",
       "      <th>featureID</th>\n",
       "      <th>exonBaseMean</th>\n",
       "      <th>dispersion</th>\n",
       "      <th>stat</th>\n",
       "      <th>pvalue</th>\n",
       "      <th>padj</th>\n",
       "      <th>untreated</th>\n",
       "      <th>treated</th>\n",
       "      <th>...</th>\n",
       "      <th>genomicData.start</th>\n",
       "      <th>genomicData.end</th>\n",
       "      <th>genomicData.width</th>\n",
       "      <th>genomicData.strand</th>\n",
       "      <th>countData.PW1_2</th>\n",
       "      <th>countData.EDO_2</th>\n",
       "      <th>countData.PW1_1</th>\n",
       "      <th>countData.PW1_3</th>\n",
       "      <th>countData.EDO_3</th>\n",
       "      <th>countData.EDO_1</th>\n",
       "    </tr>\n",
       "  </thead>\n",
       "  <tbody>\n",
       "    <tr>\n",
       "      <th>0</th>\n",
       "      <td>ENSG00000000003.14:E001</td>\n",
       "      <td>ENSG00000000003.14</td>\n",
       "      <td>E001</td>\n",
       "      <td>134.011319</td>\n",
       "      <td>0.001096</td>\n",
       "      <td>11692.250158</td>\n",
       "      <td>0.0</td>\n",
       "      <td>0.0</td>\n",
       "      <td>18.525079</td>\n",
       "      <td>23.223678</td>\n",
       "      <td>...</td>\n",
       "      <td>100627109</td>\n",
       "      <td>100628669</td>\n",
       "      <td>1561</td>\n",
       "      <td>-</td>\n",
       "      <td>182</td>\n",
       "      <td>139</td>\n",
       "      <td>119</td>\n",
       "      <td>189</td>\n",
       "      <td>86</td>\n",
       "      <td>123</td>\n",
       "    </tr>\n",
       "    <tr>\n",
       "      <th>1</th>\n",
       "      <td>ENSG00000000003.14:E002</td>\n",
       "      <td>ENSG00000000003.14</td>\n",
       "      <td>E002</td>\n",
       "      <td>1413.870707</td>\n",
       "      <td>0.000176</td>\n",
       "      <td>2999.977756</td>\n",
       "      <td>0.0</td>\n",
       "      <td>0.0</td>\n",
       "      <td>60.481014</td>\n",
       "      <td>61.663207</td>\n",
       "      <td>...</td>\n",
       "      <td>100628670</td>\n",
       "      <td>100629986</td>\n",
       "      <td>1317</td>\n",
       "      <td>-</td>\n",
       "      <td>2630</td>\n",
       "      <td>1237</td>\n",
       "      <td>1419</td>\n",
       "      <td>2220</td>\n",
       "      <td>687</td>\n",
       "      <td>1007</td>\n",
       "    </tr>\n",
       "    <tr>\n",
       "      <th>2</th>\n",
       "      <td>ENSG00000000003.14:E003</td>\n",
       "      <td>ENSG00000000003.14</td>\n",
       "      <td>E003</td>\n",
       "      <td>501.415434</td>\n",
       "      <td>0.000195</td>\n",
       "      <td>14129.283387</td>\n",
       "      <td>0.0</td>\n",
       "      <td>0.0</td>\n",
       "      <td>38.040654</td>\n",
       "      <td>39.473260</td>\n",
       "      <td>...</td>\n",
       "      <td>100630759</td>\n",
       "      <td>100630866</td>\n",
       "      <td>108</td>\n",
       "      <td>-</td>\n",
       "      <td>926</td>\n",
       "      <td>434</td>\n",
       "      <td>471</td>\n",
       "      <td>802</td>\n",
       "      <td>254</td>\n",
       "      <td>375</td>\n",
       "    </tr>\n",
       "    <tr>\n",
       "      <th>3</th>\n",
       "      <td>ENSG00000000003.14:E004</td>\n",
       "      <td>ENSG00000000003.14</td>\n",
       "      <td>E004</td>\n",
       "      <td>2.232228</td>\n",
       "      <td>0.019562</td>\n",
       "      <td>2399.891284</td>\n",
       "      <td>0.0</td>\n",
       "      <td>0.0</td>\n",
       "      <td>2.799125</td>\n",
       "      <td>2.527304</td>\n",
       "      <td>...</td>\n",
       "      <td>100632063</td>\n",
       "      <td>100632068</td>\n",
       "      <td>6</td>\n",
       "      <td>-</td>\n",
       "      <td>5</td>\n",
       "      <td>2</td>\n",
       "      <td>2</td>\n",
       "      <td>4</td>\n",
       "      <td>1</td>\n",
       "      <td>1</td>\n",
       "    </tr>\n",
       "    <tr>\n",
       "      <th>4</th>\n",
       "      <td>ENSG00000000003.14:E005</td>\n",
       "      <td>ENSG00000000003.14</td>\n",
       "      <td>E005</td>\n",
       "      <td>399.355186</td>\n",
       "      <td>0.000202</td>\n",
       "      <td>16136.218547</td>\n",
       "      <td>0.0</td>\n",
       "      <td>0.0</td>\n",
       "      <td>34.351957</td>\n",
       "      <td>35.226392</td>\n",
       "      <td>...</td>\n",
       "      <td>100632485</td>\n",
       "      <td>100632568</td>\n",
       "      <td>84</td>\n",
       "      <td>-</td>\n",
       "      <td>719</td>\n",
       "      <td>347</td>\n",
       "      <td>393</td>\n",
       "      <td>654</td>\n",
       "      <td>196</td>\n",
       "      <td>289</td>\n",
       "    </tr>\n",
       "  </tbody>\n",
       "</table>\n",
       "<p>5 rows × 22 columns</p>\n",
       "</div>"
      ],
      "text/plain": [
       "                Unnamed: 0             groupID featureID  exonBaseMean  \\\n",
       "0  ENSG00000000003.14:E001  ENSG00000000003.14      E001    134.011319   \n",
       "1  ENSG00000000003.14:E002  ENSG00000000003.14      E002   1413.870707   \n",
       "2  ENSG00000000003.14:E003  ENSG00000000003.14      E003    501.415434   \n",
       "3  ENSG00000000003.14:E004  ENSG00000000003.14      E004      2.232228   \n",
       "4  ENSG00000000003.14:E005  ENSG00000000003.14      E005    399.355186   \n",
       "\n",
       "   dispersion          stat  pvalue  padj  untreated    treated  ...  \\\n",
       "0    0.001096  11692.250158     0.0   0.0  18.525079  23.223678  ...   \n",
       "1    0.000176   2999.977756     0.0   0.0  60.481014  61.663207  ...   \n",
       "2    0.000195  14129.283387     0.0   0.0  38.040654  39.473260  ...   \n",
       "3    0.019562   2399.891284     0.0   0.0   2.799125   2.527304  ...   \n",
       "4    0.000202  16136.218547     0.0   0.0  34.351957  35.226392  ...   \n",
       "\n",
       "   genomicData.start genomicData.end  genomicData.width  genomicData.strand  \\\n",
       "0          100627109       100628669               1561                   -   \n",
       "1          100628670       100629986               1317                   -   \n",
       "2          100630759       100630866                108                   -   \n",
       "3          100632063       100632068                  6                   -   \n",
       "4          100632485       100632568                 84                   -   \n",
       "\n",
       "   countData.PW1_2 countData.EDO_2  countData.PW1_1  countData.PW1_3  \\\n",
       "0              182             139              119              189   \n",
       "1             2630            1237             1419             2220   \n",
       "2              926             434              471              802   \n",
       "3                5               2                2                4   \n",
       "4              719             347              393              654   \n",
       "\n",
       "   countData.EDO_3  countData.EDO_1  \n",
       "0               86              123  \n",
       "1              687             1007  \n",
       "2              254              375  \n",
       "3                1                1  \n",
       "4              196              289  \n",
       "\n",
       "[5 rows x 22 columns]"
      ]
     },
     "execution_count": 27,
     "metadata": {},
     "output_type": "execute_result"
    }
   ],
   "source": [
    "results_df.head()"
   ]
  },
  {
   "cell_type": "code",
   "execution_count": 28,
   "metadata": {},
   "outputs": [
    {
     "name": "stdout",
     "output_type": "stream",
     "text": [
      "\n",
      "Analyzing target genes...\n",
      "Extracted gene IDs:\n",
      "0    ENSG00000000003\n",
      "1    ENSG00000000003\n",
      "2    ENSG00000000003\n",
      "3    ENSG00000000003\n",
      "4    ENSG00000000003\n",
      "5    ENSG00000000003\n",
      "6    ENSG00000000003\n",
      "7    ENSG00000000003\n",
      "8    ENSG00000000003\n",
      "9    ENSG00000000003\n",
      "Name: gene_id, dtype: object\n"
     ]
    }
   ],
   "source": [
    "# Analyze target genes\n",
    "print(\"\\nAnalyzing target genes...\")\n",
    "gene_results = analyze_target_genes(results_df, target_genes)"
   ]
  },
  {
   "cell_type": "code",
   "execution_count": 42,
   "metadata": {},
   "outputs": [
    {
     "name": "stdout",
     "output_type": "stream",
     "text": [
      "\n",
      "SETD5:\n",
      "Stats: {'total_exons': 32, 'significant_exons': 0, 'min_padj': 0.0, 'max_abs_log2fc': 0.4425705149425831}\n",
      "\n",
      "First few rows of results:\n",
      "\n",
      "NSD2:\n",
      "Stats: {'total_exons': 40, 'significant_exons': 1, 'min_padj': 0.0, 'max_abs_log2fc': 0.6627029360342807}\n",
      "\n",
      "First few rows of results:\n"
     ]
    }
   ],
   "source": [
    "# Print first few elements of the gene_results dictionary\n",
    "for i, (gene_name, data) in enumerate(gene_results.items()):\n",
    "    if i < 2:  # Only show first 2 genes\n",
    "        print(f\"\\n{gene_name}:\")\n",
    "        print(\"Stats:\", data['stats'])\n",
    "        print(\"\\nFirst few rows of results:\")\n",
    "        # print(data['results'].head())"
   ]
  },
  {
   "cell_type": "code",
   "execution_count": 29,
   "metadata": {},
   "outputs": [
    {
     "name": "stdout",
     "output_type": "stream",
     "text": [
      "\n",
      "Generating summary...\n"
     ]
    }
   ],
   "source": [
    "# Create summary\n",
    "print(\"\\nGenerating summary...\")\n",
    "summary_df = summarize_results(gene_results)"
   ]
  },
  {
   "cell_type": "code",
   "execution_count": 38,
   "metadata": {},
   "outputs": [
    {
     "data": {
      "text/html": [
       "<div>\n",
       "<style scoped>\n",
       "    .dataframe tbody tr th:only-of-type {\n",
       "        vertical-align: middle;\n",
       "    }\n",
       "\n",
       "    .dataframe tbody tr th {\n",
       "        vertical-align: top;\n",
       "    }\n",
       "\n",
       "    .dataframe thead th {\n",
       "        text-align: right;\n",
       "    }\n",
       "</style>\n",
       "<table border=\"1\" class=\"dataframe\">\n",
       "  <thead>\n",
       "    <tr style=\"text-align: right;\">\n",
       "      <th></th>\n",
       "      <th>Gene</th>\n",
       "      <th>Total_Exons</th>\n",
       "      <th>Significant_Exons</th>\n",
       "      <th>Min_Padj</th>\n",
       "      <th>Max_Abs_Log2FC</th>\n",
       "      <th>Percent_Significant</th>\n",
       "    </tr>\n",
       "  </thead>\n",
       "  <tbody>\n",
       "    <tr>\n",
       "      <th>0</th>\n",
       "      <td>SETD5</td>\n",
       "      <td>32</td>\n",
       "      <td>0</td>\n",
       "      <td>0.0</td>\n",
       "      <td>0.442571</td>\n",
       "      <td>0.000000</td>\n",
       "    </tr>\n",
       "    <tr>\n",
       "      <th>1</th>\n",
       "      <td>NSD2</td>\n",
       "      <td>40</td>\n",
       "      <td>1</td>\n",
       "      <td>0.0</td>\n",
       "      <td>0.662703</td>\n",
       "      <td>2.500000</td>\n",
       "    </tr>\n",
       "    <tr>\n",
       "      <th>2</th>\n",
       "      <td>POLE</td>\n",
       "      <td>51</td>\n",
       "      <td>1</td>\n",
       "      <td>0.0</td>\n",
       "      <td>10.434710</td>\n",
       "      <td>1.960784</td>\n",
       "    </tr>\n",
       "    <tr>\n",
       "      <th>3</th>\n",
       "      <td>HTT</td>\n",
       "      <td>67</td>\n",
       "      <td>0</td>\n",
       "      <td>0.0</td>\n",
       "      <td>0.462000</td>\n",
       "      <td>0.000000</td>\n",
       "    </tr>\n",
       "    <tr>\n",
       "      <th>4</th>\n",
       "      <td>PER3</td>\n",
       "      <td>29</td>\n",
       "      <td>2</td>\n",
       "      <td>0.0</td>\n",
       "      <td>2.541446</td>\n",
       "      <td>6.896552</td>\n",
       "    </tr>\n",
       "  </tbody>\n",
       "</table>\n",
       "</div>"
      ],
      "text/plain": [
       "    Gene  Total_Exons  Significant_Exons  Min_Padj  Max_Abs_Log2FC  \\\n",
       "0  SETD5           32                  0       0.0        0.442571   \n",
       "1   NSD2           40                  1       0.0        0.662703   \n",
       "2   POLE           51                  1       0.0       10.434710   \n",
       "3    HTT           67                  0       0.0        0.462000   \n",
       "4   PER3           29                  2       0.0        2.541446   \n",
       "\n",
       "   Percent_Significant  \n",
       "0             0.000000  \n",
       "1             2.500000  \n",
       "2             1.960784  \n",
       "3             0.000000  \n",
       "4             6.896552  "
      ]
     },
     "execution_count": 38,
     "metadata": {},
     "output_type": "execute_result"
    }
   ],
   "source": [
    "summary_df.head()"
   ]
  },
  {
   "cell_type": "code",
   "execution_count": 33,
   "metadata": {},
   "outputs": [
    {
     "name": "stdout",
     "output_type": "stream",
     "text": [
      "\n",
      "Saving results...\n"
     ]
    }
   ],
   "source": [
    "# Save results\n",
    "print(\"\\nSaving results...\")\n",
    "summary_df.to_csv('snord116_target_genes_summary.csv', index=False)"
   ]
  },
  {
   "cell_type": "code",
   "execution_count": 34,
   "metadata": {},
   "outputs": [
    {
     "name": "stdout",
     "output_type": "stream",
     "text": [
      "Saved detailed results for SETD5 to snord116_target_gene_SETD5_detailed.csv\n",
      "Saved detailed results for NSD2 to snord116_target_gene_NSD2_detailed.csv\n",
      "Saved detailed results for POLE to snord116_target_gene_POLE_detailed.csv\n",
      "Saved detailed results for HTT to snord116_target_gene_HTT_detailed.csv\n",
      "Saved detailed results for PER3 to snord116_target_gene_PER3_detailed.csv\n",
      "Saved detailed results for MED14 to snord116_target_gene_MED14_detailed.csv\n"
     ]
    }
   ],
   "source": [
    "# Save detailed results for each gene\n",
    "for gene_name, data in gene_results.items():\n",
    "    output_file = f'snord116_target_gene_{gene_name}_detailed.csv'\n",
    "    data['results'].to_csv(output_file, index=False)\n",
    "    print(f\"Saved detailed results for {gene_name} to {output_file}\")"
   ]
  },
  {
   "cell_type": "code",
   "execution_count": 35,
   "metadata": {},
   "outputs": [
    {
     "name": "stdout",
     "output_type": "stream",
     "text": [
      "\n",
      "Analysis Summary:\n",
      "    Gene  Total_Exons  Significant_Exons  Min_Padj  Max_Abs_Log2FC  Percent_Significant\n",
      "0  SETD5           32                  0       0.0        0.442571             0.000000\n",
      "1   NSD2           40                  1       0.0        0.662703             2.500000\n",
      "2   POLE           51                  1       0.0       10.434710             1.960784\n",
      "3    HTT           67                  0       0.0        0.462000             0.000000\n",
      "4   PER3           29                  2       0.0        2.541446             6.896552\n",
      "5  MED14           31                  0       0.0        0.386772             0.000000\n"
     ]
    }
   ],
   "source": [
    "# Print summary\n",
    "print(\"\\nAnalysis Summary:\")\n",
    "print(summary_df.to_string())"
   ]
  },
  {
   "cell_type": "code",
   "execution_count": 36,
   "metadata": {},
   "outputs": [
    {
     "name": "stdout",
     "output_type": "stream",
     "text": [
      "\n",
      "Detailed findings for significant differential splicing events:\n",
      "\n",
      "NSD2:\n",
      "  Exon: E005\n",
      "  Adjusted p-value: 0.00e+00\n",
      "  Log2 fold change: -0.66\n",
      "\n",
      "POLE:\n",
      "  Exon: E051\n",
      "  Adjusted p-value: 3.71e-147\n",
      "  Log2 fold change: -10.43\n",
      "\n",
      "PER3:\n",
      "  Exon: E014\n",
      "  Adjusted p-value: 0.00e+00\n",
      "  Log2 fold change: 0.54\n",
      "  Exon: E002\n",
      "  Adjusted p-value: 7.69e-96\n",
      "  Log2 fold change: -2.54\n"
     ]
    }
   ],
   "source": [
    "# Print detailed findings for significant results\n",
    "print(\"\\nDetailed findings for significant differential splicing events:\")\n",
    "for gene_name, data in gene_results.items():\n",
    "    sig_events = data['results'][data['results']['is_significant']]\n",
    "    if not sig_events.empty:\n",
    "        print(f\"\\n{gene_name}:\")\n",
    "        for _, event in sig_events.iterrows():\n",
    "            print(f\"  Exon: {event['featureID']}\")\n",
    "            print(f\"  Adjusted p-value: {event['padj']:.2e}\")\n",
    "            print(f\"  Log2 fold change: {event['log2fold_treated_untreated']:.2f}\")"
   ]
  }
 ],
 "metadata": {
  "kernelspec": {
   "display_name": "jupyter",
   "language": "python",
   "name": "jupyter"
  }
 },
 "nbformat": 4,
 "nbformat_minor": 2
}
